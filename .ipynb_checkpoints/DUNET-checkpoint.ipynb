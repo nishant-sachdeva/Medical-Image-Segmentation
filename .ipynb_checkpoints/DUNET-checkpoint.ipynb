{
 "cells": [
  {
   "cell_type": "code",
   "execution_count": 2,
   "id": "related-speaker",
   "metadata": {},
   "outputs": [],
   "source": [
    "import numpy as np \n",
    "import os\n",
    "import skimage.io as io\n",
    "import skimage.transform as trans\n",
    "import numpy as np\n",
    "from keras.models import *\n",
    "from keras.layers import *\n",
    "from keras.optimizers import *\n",
    "from keras.callbacks import ModelCheckpoint, LearningRateScheduler\n",
    "from keras import backend as keras\n",
    "from kymatio import Scattering2D\n",
    "from sklearn.random_projection import GaussianRandomProjection\n",
    "from sklearn.decomposition import PCA\n",
    "import cv2\n",
    "import random\n",
    "import matplotlib.pyplot as plt\n",
    "import csv"
   ]
  },
  {
   "cell_type": "code",
   "execution_count": 12,
   "id": "consecutive-bleeding",
   "metadata": {},
   "outputs": [
    {
     "name": "stdout",
     "output_type": "stream",
     "text": [
      "KerasTensor(type_spec=TensorSpec(shape=(None, 544, 800, 1), dtype=tf.float32, name=None), name='conv2d_37/Relu:0', description=\"created by layer 'conv2d_37'\")\n",
      "Model: \"model_1\"\n",
      "__________________________________________________________________________________________________\n",
      "Layer (type)                    Output Shape         Param #     Connected to                     \n",
      "==================================================================================================\n",
      "input_3 (InputLayer)            [(None, 544, 800, 3) 0                                            \n",
      "__________________________________________________________________________________________________\n",
      "conv2d_19 (Conv2D)              (None, 544, 800, 64) 1792        input_3[0][0]                    \n",
      "__________________________________________________________________________________________________\n",
      "max_pooling2d_7 (MaxPooling2D)  (None, 272, 400, 64) 0           conv2d_19[0][0]                  \n",
      "__________________________________________________________________________________________________\n",
      "conv2d_20 (Conv2D)              (None, 272, 400, 128 73856       max_pooling2d_7[0][0]            \n",
      "__________________________________________________________________________________________________\n",
      "max_pooling2d_8 (MaxPooling2D)  (None, 136, 200, 128 0           conv2d_20[0][0]                  \n",
      "__________________________________________________________________________________________________\n",
      "conv2d_21 (Conv2D)              (None, 136, 200, 256 295168      max_pooling2d_8[0][0]            \n",
      "__________________________________________________________________________________________________\n",
      "input_4 (InputLayer)            [(None, 68, 100, 1)] 0                                            \n",
      "__________________________________________________________________________________________________\n",
      "max_pooling2d_9 (MaxPooling2D)  (None, 68, 100, 256) 0           conv2d_21[0][0]                  \n",
      "__________________________________________________________________________________________________\n",
      "conv2d_22 (Conv2D)              (None, 68, 100, 256) 2560        input_4[0][0]                    \n",
      "__________________________________________________________________________________________________\n",
      "conv2d_23 (Conv2D)              (None, 68, 100, 512) 1180160     max_pooling2d_9[0][0]            \n",
      "__________________________________________________________________________________________________\n",
      "max_pooling2d_10 (MaxPooling2D) (None, 34, 50, 256)  0           conv2d_22[0][0]                  \n",
      "__________________________________________________________________________________________________\n",
      "max_pooling2d_11 (MaxPooling2D) (None, 34, 50, 512)  0           conv2d_23[0][0]                  \n",
      "__________________________________________________________________________________________________\n",
      "conv2d_24 (Conv2D)              (None, 34, 50, 512)  1180160     max_pooling2d_10[0][0]           \n",
      "__________________________________________________________________________________________________\n",
      "conv2d_25 (Conv2D)              (None, 34, 50, 1024) 4719616     max_pooling2d_11[0][0]           \n",
      "__________________________________________________________________________________________________\n",
      "max_pooling2d_12 (MaxPooling2D) (None, 17, 25, 512)  0           conv2d_24[0][0]                  \n",
      "__________________________________________________________________________________________________\n",
      "max_pooling2d_13 (MaxPooling2D) (None, 17, 25, 1024) 0           conv2d_25[0][0]                  \n",
      "__________________________________________________________________________________________________\n",
      "conv2d_26 (Conv2D)              (None, 17, 25, 1024) 4719616     max_pooling2d_12[0][0]           \n",
      "__________________________________________________________________________________________________\n",
      "concatenate_5 (Concatenate)     (None, 17, 25, 2048) 0           max_pooling2d_13[0][0]           \n",
      "                                                                 conv2d_26[0][0]                  \n",
      "__________________________________________________________________________________________________\n",
      "conv2d_27 (Conv2D)              (None, 17, 25, 1024) 18875392    concatenate_5[0][0]              \n",
      "__________________________________________________________________________________________________\n",
      "up_sampling2d_5 (UpSampling2D)  (None, 34, 50, 1024) 0           conv2d_27[0][0]                  \n",
      "__________________________________________________________________________________________________\n",
      "conv2d_28 (Conv2D)              (None, 34, 50, 512)  2097664     up_sampling2d_5[0][0]            \n",
      "__________________________________________________________________________________________________\n",
      "concatenate_6 (Concatenate)     (None, 34, 50, 1024) 0           max_pooling2d_11[0][0]           \n",
      "                                                                 conv2d_28[0][0]                  \n",
      "__________________________________________________________________________________________________\n",
      "conv2d_29 (Conv2D)              (None, 34, 50, 512)  4719104     concatenate_6[0][0]              \n",
      "__________________________________________________________________________________________________\n",
      "up_sampling2d_6 (UpSampling2D)  (None, 68, 100, 512) 0           conv2d_29[0][0]                  \n",
      "__________________________________________________________________________________________________\n",
      "conv2d_30 (Conv2D)              (None, 68, 100, 256) 524544      up_sampling2d_6[0][0]            \n",
      "__________________________________________________________________________________________________\n",
      "concatenate_7 (Concatenate)     (None, 68, 100, 512) 0           max_pooling2d_9[0][0]            \n",
      "                                                                 conv2d_30[0][0]                  \n",
      "__________________________________________________________________________________________________\n",
      "conv2d_31 (Conv2D)              (None, 68, 100, 256) 1179904     concatenate_7[0][0]              \n",
      "__________________________________________________________________________________________________\n",
      "up_sampling2d_7 (UpSampling2D)  (None, 136, 200, 256 0           conv2d_31[0][0]                  \n",
      "__________________________________________________________________________________________________\n",
      "conv2d_32 (Conv2D)              (None, 136, 200, 128 131200      up_sampling2d_7[0][0]            \n",
      "__________________________________________________________________________________________________\n",
      "concatenate_8 (Concatenate)     (None, 136, 200, 256 0           max_pooling2d_8[0][0]            \n",
      "                                                                 conv2d_32[0][0]                  \n",
      "__________________________________________________________________________________________________\n",
      "conv2d_33 (Conv2D)              (None, 136, 200, 128 295040      concatenate_8[0][0]              \n",
      "__________________________________________________________________________________________________\n",
      "up_sampling2d_8 (UpSampling2D)  (None, 272, 400, 128 0           conv2d_33[0][0]                  \n",
      "__________________________________________________________________________________________________\n",
      "conv2d_34 (Conv2D)              (None, 272, 400, 64) 32832       up_sampling2d_8[0][0]            \n",
      "__________________________________________________________________________________________________\n",
      "concatenate_9 (Concatenate)     (None, 272, 400, 128 0           max_pooling2d_7[0][0]            \n",
      "                                                                 conv2d_34[0][0]                  \n",
      "__________________________________________________________________________________________________\n",
      "conv2d_35 (Conv2D)              (None, 272, 400, 64) 73792       concatenate_9[0][0]              \n",
      "__________________________________________________________________________________________________\n",
      "up_sampling2d_9 (UpSampling2D)  (None, 544, 800, 64) 0           conv2d_35[0][0]                  \n",
      "__________________________________________________________________________________________________\n",
      "conv2d_36 (Conv2D)              (None, 544, 800, 16) 4112        up_sampling2d_9[0][0]            \n",
      "__________________________________________________________________________________________________\n",
      "conv2d_37 (Conv2D)              (None, 544, 800, 1)  145         conv2d_36[0][0]                  \n",
      "==================================================================================================\n",
      "Total params: 40,106,657\n",
      "Trainable params: 40,106,657\n",
      "Non-trainable params: 0\n",
      "__________________________________________________________________________________________________\n"
     ]
    }
   ],
   "source": [
    "inputs = Input(shape=(544,800,3))\n",
    "inputs2= Input(shape=(68,100,1))\n",
    "\n",
    "conv1 = Conv2D(64, 3, activation = 'relu', padding = 'same', kernel_initializer = 'he_normal')(inputs)\n",
    "pool1 = MaxPooling2D(pool_size=(2, 2))(conv1)\n",
    "conv2 = Conv2D(128, 3, activation = 'relu', padding = 'same', kernel_initializer = 'he_normal')(pool1)\n",
    "pool2 = MaxPooling2D(pool_size=(2, 2))(conv2)\n",
    "conv3 = Conv2D(256, 3, activation = 'relu', padding = 'same', kernel_initializer = 'he_normal')(pool2)\n",
    "pool3 = MaxPooling2D(pool_size=(2, 2))(conv3)\n",
    "\n",
    "scatcon1 = Conv2D(256, 3, activation = 'relu', padding = 'same', kernel_initializer = 'he_normal')(inputs2)\n",
    "scatcon1 = MaxPooling2D(pool_size=(2, 2))(scatcon1)\n",
    "conv4 = Conv2D(512, 3, activation = 'relu', padding = 'same', kernel_initializer = 'he_normal')(pool3)\n",
    "pool4 = MaxPooling2D(pool_size=(2, 2))(conv4)\n",
    "scatcon2 = Conv2D(512, 3, activation = 'relu', padding = 'same', kernel_initializer = 'he_normal')(scatcon1)\n",
    "scatcon2 = MaxPooling2D(pool_size=(2, 2))(scatcon2)\n",
    "\n",
    "\n",
    "conv5 = Conv2D(1024, 3, activation = 'relu', padding = 'same', kernel_initializer = 'he_normal')(pool4)\n",
    "conv5 = MaxPooling2D(pool_size=(2, 2))(conv5)\n",
    "scatcon3 = Conv2D(1024, 3, activation = 'relu', padding = 'same', kernel_initializer = 'he_normal')(scatcon2)\n",
    "conv5 = concatenate([conv5,scatcon3], axis = 3) \n",
    "conv5 = Conv2D(1024, 3, activation = 'relu', padding = 'same', kernel_initializer = 'he_normal')(conv5)\n",
    "\n",
    "up6 = Conv2D(512, 2, activation = 'relu', padding = 'same', kernel_initializer = 'he_normal')(UpSampling2D(size = (2,2))(conv5))\n",
    "merge6 = concatenate([pool4,up6], axis = 3)\n",
    "conv6 = Conv2D(512, 3, activation = 'relu', padding = 'same', kernel_initializer = 'he_normal')(merge6)\n",
    "\n",
    "up7 = Conv2D(256, 2, activation = 'relu', padding = 'same', kernel_initializer = 'he_normal')(UpSampling2D(size = (2,2))(conv6))\n",
    "merge7 = concatenate([pool3,up7], axis = 3)\n",
    "conv7 = Conv2D(256, 3, activation = 'relu', padding = 'same', kernel_initializer = 'he_normal')(merge7)\n",
    "\n",
    "up8 = Conv2D(128, 2, activation = 'relu', padding = 'same', kernel_initializer = 'he_normal')(UpSampling2D(size = (2,2))(conv7))\n",
    "merge8 = concatenate([pool2,up8], axis = 3)\n",
    "conv8 = Conv2D(128, 3, activation = 'relu', padding = 'same', kernel_initializer = 'he_normal')(merge8)\n",
    "\n",
    "up9 = Conv2D(64, 2, activation = 'relu', padding = 'same', kernel_initializer = 'he_normal')(UpSampling2D(size = (2,2))(conv8))\n",
    "merge9 = concatenate([pool1,up9], axis = 3)\n",
    "conv9 = Conv2D(64, 3, activation = 'relu', padding = 'same', kernel_initializer = 'he_normal')(merge9)\n",
    "up10 = Conv2D(16, 2, activation = 'relu', padding = 'same', kernel_initializer = 'he_normal')(UpSampling2D(size = (2,2))(conv9))\n",
    "conv10 = Conv2D(1, 3, activation = 'relu', padding = 'same', kernel_initializer = 'he_normal')(up10)\n",
    "print(conv10)\n",
    "\n",
    "model = Model(inputs = [inputs,inputs2], outputs = conv10)\n",
    "\n",
    "model.compile(optimizer = Adam(lr = 1e-3), loss = 'binary_crossentropy', metrics = ['accuracy'])\n",
    "\n",
    "model.summary()\n",
    "\n",
    "# if(pretrained_weights):\n",
    "# \tmodel.load_weights(pretrained_weights)"
   ]
  },
  {
   "cell_type": "code",
   "execution_count": 18,
   "id": "peaceful-martin",
   "metadata": {},
   "outputs": [],
   "source": [
    "Sx = Scattering2D(J=2, shape=(544,800),frontend='numpy')"
   ]
  },
  {
   "cell_type": "code",
   "execution_count": 11,
   "id": "exclusive-establishment",
   "metadata": {},
   "outputs": [],
   "source": [
    "def readInputimage(name):\n",
    "    normal = cv2.imread(name)\n",
    "    normal = cv2.cvtColor(normal, cv2.COLOR_BGR2RGB)\n",
    "    normal=cv2.resize(normal,(800,544))\n",
    "    gray = cv2.cvtColor(normal, cv2.COLOR_RGB2GRAY)\n",
    "    gray=[gray]\n",
    "    gray=np.array(gray)\n",
    "    ans=Sx(gray)\n",
    "    ans=np.array(ans)\n",
    "    ans=ans.reshape(6800,81*4)\n",
    "    ans1=[]\n",
    "    for i in range(6800):\n",
    "        ans1.append(ans[i][random.randint(0, (81*4)-1)])\n",
    "    ans1=np.array(ans1).reshape(68,100)\n",
    "    return normal,ans1\n",
    "def readOutputimage(name):\n",
    "    print(name)\n",
    "    normal = cv2.imread(name)\n",
    "    gray = cv2.cvtColor(normal, cv2.COLOR_BGR2GRAY)\n",
    "    contours, _= cv2.findContours(gray, cv2.RETR_TREE,cv2.CHAIN_APPROX_SIMPLE)\n",
    "    cv2.drawContours(normal,contours,0,(255,255,255),-1)\n",
    "    normal=cv2.resize(normal,(800,544))\n",
    "    gray = cv2.cvtColor(normal, cv2.COLOR_BGR2GRAY)\n",
    "    print(np.array(gray).sum()/255)\n",
    "    return gray\n",
    "def data_generator(descriptions,num_photos_per_batch=3):\n",
    "    print(\"Inside Data generator\")\n",
    "    X1, X2, y = list(), list(), list()\n",
    "    n=0\n",
    "    while 1:\n",
    "        for key, desc_list in descriptions:\n",
    "            n+=1\n",
    "            t1,t2=readInputimage(key)\n",
    "            X1.append(t1)\n",
    "            X2.append(t2)\n",
    "            y.append(readOutputimage(desc_list))\n",
    "            if n==num_photos_per_batch:\n",
    "                yield ((np.array(X1), np.array(X2)), np.array(y))\n",
    "                X1, X2, y = list(), list(), list()\n",
    "                n=0"
   ]
  },
  {
   "cell_type": "code",
   "execution_count": 13,
   "id": "composite-novel",
   "metadata": {},
   "outputs": [
    {
     "name": "stdout",
     "output_type": "stream",
     "text": [
      "../hc18/training_set/001_HC_Annotation.png\n",
      "32253.286274509803\n"
     ]
    },
    {
     "data": {
      "text/plain": [
       "<matplotlib.image.AxesImage at 0x7f917361e880>"
      ]
     },
     "execution_count": 13,
     "metadata": {},
     "output_type": "execute_result"
    },
    {
     "data": {
      "image/png": "[encoded data removed]",
      "text/plain": [
       "<Figure size 432x288 with 1 Axes>"
      ]
     },
     "metadata": {
      "needs_background": "light"
     },
     "output_type": "display_data"
    }
   ],
   "source": [
    "plt.imshow(readOutputimage('../hc18/training_set/000_HC_Annotation.png'),cmap='gray')"
   ]
  },
  {
   "cell_type": "code",
   "execution_count": 28,
   "id": "dying-standard",
   "metadata": {},
   "outputs": [],
   "source": [
    "traindir=\"../hc18/training_set/\"\n",
    "i=0\n",
    "trainname=[]\n",
    "with open(\"../hc18/training_set_pixel_size_and_HC.csv\",'r') as s:\n",
    "    r=csv.reader(s)\n",
    "    for com in r:\n",
    "        if i==0:\n",
    "            i=1\n",
    "        else:\n",
    "            trainname.append([\"../hc18/training_set/\"+com[0],\"../hc18/training_set/\"+com[0].split('.')[0]+'_Annotation.png'])\n",
    "# print(trainname)"
   ]
  },
  {
   "cell_type": "code",
   "execution_count": null,
   "id": "golden-interference",
   "metadata": {},
   "outputs": [
    {
     "name": "stdout",
     "output_type": "stream",
     "text": [
      "Inside Data generator\n",
      "../hc18/training_set/000_HC_Annotation.png\n",
      "../hc18/training_set/001_HC_Annotation.png\n",
      "../hc18/training_set/002_HC_Annotation.png\n",
      "../hc18/training_set/003_HC_Annotation.png\n",
      "../hc18/training_set/004_HC_Annotation.png\n"
     ]
    }
   ],
   "source": [
    "epochs = 10\n",
    "number_pics_per_batch = 3\n",
    "steps = len(trainname)//number_pics_per_batch\n",
    "for i in range(epochs):\n",
    "    generator = data_generator(trainname,number_pics_per_batch)\n",
    "    model.fit_generator(generator, epochs=1, steps_per_epoch=steps, verbose=1)\n",
    "    model.save('./model_' + str(i) + '.h5')"
   ]
  },
  {
   "cell_type": "code",
   "execution_count": null,
   "id": "novel-feeding",
   "metadata": {},
   "outputs": [],
   "source": []
  }
 ],
 "metadata": {
  "kernelspec": {
   "display_name": "Python 3",
   "language": "python",
   "name": "python3"
  },
  "language_info": {
   "codemirror_mode": {
    "name": "ipython",
    "version": 3
   },
   "file_extension": ".py",
   "mimetype": "text/x-python",
   "name": "python",
   "nbconvert_exporter": "python",
   "pygments_lexer": "ipython3",
   "version": "3.8.5"
  }
 },
 "nbformat": 4,
 "nbformat_minor": 5
}
